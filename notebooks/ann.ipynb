{
 "cells": [
  {
   "cell_type": "markdown",
   "metadata": {},
   "source": [
    "# ANN \n",
    "\n",
    "This notebook will see how an ANN does on prepared dataset with the features."
   ]
  },
  {
   "cell_type": "code",
   "execution_count": 1,
   "metadata": {},
   "outputs": [],
   "source": [
    "# Importing libraries\n",
    "import pandas as pd\n",
    "import numpy as np \n",
    "import matplotlib.pyplot as plt \n",
    "import seaborn as sns\n",
    "import sys \n",
    "import pickle\n",
    "import torch\n",
    "import torch.nn as nn\n",
    "from sklearn.metrics import roc_auc_score\n",
    "from torch.utils.data import TensorDataset, DataLoader\n",
    "import tqdm\n",
    "\n",
    "sys.path.append('../')\n",
    "\n",
    "%matplotlib inline"
   ]
  },
  {
   "cell_type": "code",
   "execution_count": 2,
   "metadata": {},
   "outputs": [
    {
     "data": {
      "text/html": [
       "<div>\n",
       "<style scoped>\n",
       "    .dataframe tbody tr th:only-of-type {\n",
       "        vertical-align: middle;\n",
       "    }\n",
       "\n",
       "    .dataframe tbody tr th {\n",
       "        vertical-align: top;\n",
       "    }\n",
       "\n",
       "    .dataframe thead th {\n",
       "        text-align: right;\n",
       "    }\n",
       "</style>\n",
       "<table border=\"1\" class=\"dataframe\">\n",
       "  <thead>\n",
       "    <tr style=\"text-align: right;\">\n",
       "      <th></th>\n",
       "      <th>row_id</th>\n",
       "      <th>essay</th>\n",
       "      <th>word_count</th>\n",
       "      <th>LLM_written</th>\n",
       "      <th>stop_word_count</th>\n",
       "      <th>stop_word_ratio</th>\n",
       "      <th>unique_word_count</th>\n",
       "      <th>unique_word_ratio</th>\n",
       "      <th>count_question</th>\n",
       "      <th>count_exclamation</th>\n",
       "      <th>count_semi</th>\n",
       "      <th>count_colon</th>\n",
       "      <th>grammar_errors</th>\n",
       "      <th>detector_pred</th>\n",
       "      <th>anger_pred</th>\n",
       "      <th>surprise_pred</th>\n",
       "      <th>sadness_pred</th>\n",
       "      <th>fear_pred</th>\n",
       "    </tr>\n",
       "  </thead>\n",
       "  <tbody>\n",
       "    <tr>\n",
       "      <th>0</th>\n",
       "      <td>1</td>\n",
       "      <td>Dear State Senator,\\n\\nI'm writting to you tod...</td>\n",
       "      <td>291</td>\n",
       "      <td>1</td>\n",
       "      <td>137</td>\n",
       "      <td>0.470790</td>\n",
       "      <td>131</td>\n",
       "      <td>0.450172</td>\n",
       "      <td>0</td>\n",
       "      <td>2</td>\n",
       "      <td>0</td>\n",
       "      <td>0</td>\n",
       "      <td>2</td>\n",
       "      <td>1</td>\n",
       "      <td>0</td>\n",
       "      <td>0</td>\n",
       "      <td>0</td>\n",
       "      <td>0</td>\n",
       "    </tr>\n",
       "    <tr>\n",
       "      <th>1</th>\n",
       "      <td>2</td>\n",
       "      <td>Uh, hi! So, like, summers are, like, awesome r...</td>\n",
       "      <td>311</td>\n",
       "      <td>1</td>\n",
       "      <td>137</td>\n",
       "      <td>0.440514</td>\n",
       "      <td>121</td>\n",
       "      <td>0.389068</td>\n",
       "      <td>3</td>\n",
       "      <td>4</td>\n",
       "      <td>0</td>\n",
       "      <td>0</td>\n",
       "      <td>11</td>\n",
       "      <td>0</td>\n",
       "      <td>0</td>\n",
       "      <td>0</td>\n",
       "      <td>0</td>\n",
       "      <td>0</td>\n",
       "    </tr>\n",
       "    <tr>\n",
       "      <th>2</th>\n",
       "      <td>3</td>\n",
       "      <td>When peoples ask for advices, they sometimes t...</td>\n",
       "      <td>333</td>\n",
       "      <td>1</td>\n",
       "      <td>158</td>\n",
       "      <td>0.474474</td>\n",
       "      <td>155</td>\n",
       "      <td>0.465465</td>\n",
       "      <td>0</td>\n",
       "      <td>1</td>\n",
       "      <td>0</td>\n",
       "      <td>0</td>\n",
       "      <td>6</td>\n",
       "      <td>0</td>\n",
       "      <td>0</td>\n",
       "      <td>0</td>\n",
       "      <td>0</td>\n",
       "      <td>0</td>\n",
       "    </tr>\n",
       "    <tr>\n",
       "      <th>3</th>\n",
       "      <td>4</td>\n",
       "      <td>I think art edukation is super impotent for ki...</td>\n",
       "      <td>308</td>\n",
       "      <td>1</td>\n",
       "      <td>121</td>\n",
       "      <td>0.392857</td>\n",
       "      <td>130</td>\n",
       "      <td>0.422078</td>\n",
       "      <td>0</td>\n",
       "      <td>0</td>\n",
       "      <td>0</td>\n",
       "      <td>0</td>\n",
       "      <td>48</td>\n",
       "      <td>0</td>\n",
       "      <td>0</td>\n",
       "      <td>0</td>\n",
       "      <td>1</td>\n",
       "      <td>0</td>\n",
       "    </tr>\n",
       "    <tr>\n",
       "      <th>4</th>\n",
       "      <td>5</td>\n",
       "      <td>I think we should totally switch to renewable ...</td>\n",
       "      <td>307</td>\n",
       "      <td>1</td>\n",
       "      <td>138</td>\n",
       "      <td>0.449511</td>\n",
       "      <td>146</td>\n",
       "      <td>0.475570</td>\n",
       "      <td>0</td>\n",
       "      <td>2</td>\n",
       "      <td>0</td>\n",
       "      <td>0</td>\n",
       "      <td>5</td>\n",
       "      <td>1</td>\n",
       "      <td>0</td>\n",
       "      <td>0</td>\n",
       "      <td>0</td>\n",
       "      <td>0</td>\n",
       "    </tr>\n",
       "  </tbody>\n",
       "</table>\n",
       "</div>"
      ],
      "text/plain": [
       "   row_id                                              essay  word_count  \\\n",
       "0       1  Dear State Senator,\\n\\nI'm writting to you tod...         291   \n",
       "1       2  Uh, hi! So, like, summers are, like, awesome r...         311   \n",
       "2       3  When peoples ask for advices, they sometimes t...         333   \n",
       "3       4  I think art edukation is super impotent for ki...         308   \n",
       "4       5  I think we should totally switch to renewable ...         307   \n",
       "\n",
       "   LLM_written  stop_word_count  stop_word_ratio  unique_word_count  \\\n",
       "0            1              137         0.470790                131   \n",
       "1            1              137         0.440514                121   \n",
       "2            1              158         0.474474                155   \n",
       "3            1              121         0.392857                130   \n",
       "4            1              138         0.449511                146   \n",
       "\n",
       "   unique_word_ratio  count_question  count_exclamation  count_semi  \\\n",
       "0           0.450172               0                  2           0   \n",
       "1           0.389068               3                  4           0   \n",
       "2           0.465465               0                  1           0   \n",
       "3           0.422078               0                  0           0   \n",
       "4           0.475570               0                  2           0   \n",
       "\n",
       "   count_colon  grammar_errors  detector_pred  anger_pred  surprise_pred  \\\n",
       "0            0               2              1           0              0   \n",
       "1            0              11              0           0              0   \n",
       "2            0               6              0           0              0   \n",
       "3            0              48              0           0              0   \n",
       "4            0               5              1           0              0   \n",
       "\n",
       "   sadness_pred  fear_pred  \n",
       "0             0          0  \n",
       "1             0          0  \n",
       "2             0          0  \n",
       "3             1          0  \n",
       "4             0          0  "
      ]
     },
     "execution_count": 2,
     "metadata": {},
     "output_type": "execute_result"
    }
   ],
   "source": [
    "# Getting the data\n",
    "data = pd.read_csv('../prepared_training_set.csv')\n",
    "data.head()"
   ]
  },
  {
   "cell_type": "code",
   "execution_count": 3,
   "metadata": {},
   "outputs": [],
   "source": [
    "# Getting the scalar \n",
    "with open('../scalars/scalar_grammar.pkl','rb') as scale_file:\n",
    "    scalar = pickle.load(scale_file)"
   ]
  },
  {
   "cell_type": "code",
   "execution_count": 4,
   "metadata": {},
   "outputs": [
    {
     "data": {
      "text/html": [
       "<div>\n",
       "<style scoped>\n",
       "    .dataframe tbody tr th:only-of-type {\n",
       "        vertical-align: middle;\n",
       "    }\n",
       "\n",
       "    .dataframe tbody tr th {\n",
       "        vertical-align: top;\n",
       "    }\n",
       "\n",
       "    .dataframe thead th {\n",
       "        text-align: right;\n",
       "    }\n",
       "</style>\n",
       "<table border=\"1\" class=\"dataframe\">\n",
       "  <thead>\n",
       "    <tr style=\"text-align: right;\">\n",
       "      <th></th>\n",
       "      <th>row_id</th>\n",
       "      <th>essay</th>\n",
       "      <th>word_count</th>\n",
       "      <th>LLM_written</th>\n",
       "      <th>stop_word_count</th>\n",
       "      <th>stop_word_ratio</th>\n",
       "      <th>unique_word_count</th>\n",
       "      <th>unique_word_ratio</th>\n",
       "      <th>count_question</th>\n",
       "      <th>count_exclamation</th>\n",
       "      <th>count_semi</th>\n",
       "      <th>count_colon</th>\n",
       "      <th>grammar_errors</th>\n",
       "      <th>detector_pred</th>\n",
       "      <th>anger_pred</th>\n",
       "      <th>surprise_pred</th>\n",
       "      <th>sadness_pred</th>\n",
       "      <th>fear_pred</th>\n",
       "    </tr>\n",
       "  </thead>\n",
       "  <tbody>\n",
       "    <tr>\n",
       "      <th>0</th>\n",
       "      <td>1</td>\n",
       "      <td>Dear State Senator,\\n\\nI'm writting to you tod...</td>\n",
       "      <td>-0.373333</td>\n",
       "      <td>1</td>\n",
       "      <td>-0.292453</td>\n",
       "      <td>0.179113</td>\n",
       "      <td>-0.500000</td>\n",
       "      <td>-0.112422</td>\n",
       "      <td>0.0</td>\n",
       "      <td>2.0</td>\n",
       "      <td>0.0</td>\n",
       "      <td>0.0</td>\n",
       "      <td>-0.285714</td>\n",
       "      <td>1</td>\n",
       "      <td>0</td>\n",
       "      <td>0</td>\n",
       "      <td>0</td>\n",
       "      <td>0</td>\n",
       "    </tr>\n",
       "    <tr>\n",
       "      <th>1</th>\n",
       "      <td>2</td>\n",
       "      <td>Uh, hi! So, like, summers are, like, awesome r...</td>\n",
       "      <td>-0.284444</td>\n",
       "      <td>1</td>\n",
       "      <td>-0.292453</td>\n",
       "      <td>-0.176273</td>\n",
       "      <td>-0.621951</td>\n",
       "      <td>-0.620694</td>\n",
       "      <td>3.0</td>\n",
       "      <td>4.0</td>\n",
       "      <td>0.0</td>\n",
       "      <td>0.0</td>\n",
       "      <td>0.357143</td>\n",
       "      <td>0</td>\n",
       "      <td>0</td>\n",
       "      <td>0</td>\n",
       "      <td>0</td>\n",
       "      <td>0</td>\n",
       "    </tr>\n",
       "    <tr>\n",
       "      <th>2</th>\n",
       "      <td>3</td>\n",
       "      <td>When peoples ask for advices, they sometimes t...</td>\n",
       "      <td>-0.186667</td>\n",
       "      <td>1</td>\n",
       "      <td>-0.094340</td>\n",
       "      <td>0.222358</td>\n",
       "      <td>-0.207317</td>\n",
       "      <td>0.014792</td>\n",
       "      <td>0.0</td>\n",
       "      <td>1.0</td>\n",
       "      <td>0.0</td>\n",
       "      <td>0.0</td>\n",
       "      <td>0.000000</td>\n",
       "      <td>0</td>\n",
       "      <td>0</td>\n",
       "      <td>0</td>\n",
       "      <td>0</td>\n",
       "      <td>0</td>\n",
       "    </tr>\n",
       "    <tr>\n",
       "      <th>3</th>\n",
       "      <td>4</td>\n",
       "      <td>I think art edukation is super impotent for ki...</td>\n",
       "      <td>-0.297778</td>\n",
       "      <td>1</td>\n",
       "      <td>-0.443396</td>\n",
       "      <td>-0.735686</td>\n",
       "      <td>-0.512195</td>\n",
       "      <td>-0.346110</td>\n",
       "      <td>0.0</td>\n",
       "      <td>0.0</td>\n",
       "      <td>0.0</td>\n",
       "      <td>0.0</td>\n",
       "      <td>3.000000</td>\n",
       "      <td>0</td>\n",
       "      <td>0</td>\n",
       "      <td>0</td>\n",
       "      <td>1</td>\n",
       "      <td>0</td>\n",
       "    </tr>\n",
       "    <tr>\n",
       "      <th>4</th>\n",
       "      <td>5</td>\n",
       "      <td>I think we should totally switch to renewable ...</td>\n",
       "      <td>-0.302222</td>\n",
       "      <td>1</td>\n",
       "      <td>-0.283019</td>\n",
       "      <td>-0.070665</td>\n",
       "      <td>-0.317073</td>\n",
       "      <td>0.098843</td>\n",
       "      <td>0.0</td>\n",
       "      <td>2.0</td>\n",
       "      <td>0.0</td>\n",
       "      <td>0.0</td>\n",
       "      <td>-0.071429</td>\n",
       "      <td>1</td>\n",
       "      <td>0</td>\n",
       "      <td>0</td>\n",
       "      <td>0</td>\n",
       "      <td>0</td>\n",
       "    </tr>\n",
       "  </tbody>\n",
       "</table>\n",
       "</div>"
      ],
      "text/plain": [
       "   row_id                                              essay  word_count  \\\n",
       "0       1  Dear State Senator,\\n\\nI'm writting to you tod...   -0.373333   \n",
       "1       2  Uh, hi! So, like, summers are, like, awesome r...   -0.284444   \n",
       "2       3  When peoples ask for advices, they sometimes t...   -0.186667   \n",
       "3       4  I think art edukation is super impotent for ki...   -0.297778   \n",
       "4       5  I think we should totally switch to renewable ...   -0.302222   \n",
       "\n",
       "   LLM_written  stop_word_count  stop_word_ratio  unique_word_count  \\\n",
       "0            1        -0.292453         0.179113          -0.500000   \n",
       "1            1        -0.292453        -0.176273          -0.621951   \n",
       "2            1        -0.094340         0.222358          -0.207317   \n",
       "3            1        -0.443396        -0.735686          -0.512195   \n",
       "4            1        -0.283019        -0.070665          -0.317073   \n",
       "\n",
       "   unique_word_ratio  count_question  count_exclamation  count_semi  \\\n",
       "0          -0.112422             0.0                2.0         0.0   \n",
       "1          -0.620694             3.0                4.0         0.0   \n",
       "2           0.014792             0.0                1.0         0.0   \n",
       "3          -0.346110             0.0                0.0         0.0   \n",
       "4           0.098843             0.0                2.0         0.0   \n",
       "\n",
       "   count_colon  grammar_errors  detector_pred  anger_pred  surprise_pred  \\\n",
       "0          0.0       -0.285714              1           0              0   \n",
       "1          0.0        0.357143              0           0              0   \n",
       "2          0.0        0.000000              0           0              0   \n",
       "3          0.0        3.000000              0           0              0   \n",
       "4          0.0       -0.071429              1           0              0   \n",
       "\n",
       "   sadness_pred  fear_pred  \n",
       "0             0          0  \n",
       "1             0          0  \n",
       "2             0          0  \n",
       "3             1          0  \n",
       "4             0          0  "
      ]
     },
     "execution_count": 4,
     "metadata": {},
     "output_type": "execute_result"
    }
   ],
   "source": [
    "# Getting the numerical features\n",
    "numerical = ['word_count','stop_word_count','stop_word_ratio','unique_word_count','unique_word_ratio',\n",
    "             'count_question','count_exclamation','count_semi','count_colon','grammar_errors']\n",
    "\n",
    "# Running the data through the scalar\n",
    "data[numerical] = scalar.transform(data[numerical])\n",
    "data.head()"
   ]
  },
  {
   "cell_type": "code",
   "execution_count": 5,
   "metadata": {},
   "outputs": [],
   "source": [
    "# Splitting data into X and y\n",
    "X_train = data.drop(['essay','LLM_written','row_id'],axis=1).values\n",
    "y_train = data['LLM_written'].values\n",
    "\n",
    "# Putting both into Tensors and into a dataloader for iterating\n",
    "X_tensor = torch.from_numpy(np.float32(X_train))\n",
    "y_tensor = torch.from_numpy(y_train)\n",
    "tensor_dataset = TensorDataset(X_tensor,y_tensor)\n",
    "training_loader = DataLoader(tensor_dataset,batch_size=32,shuffle=True)"
   ]
  },
  {
   "cell_type": "code",
   "execution_count": 6,
   "metadata": {},
   "outputs": [],
   "source": [
    "# Class for the model\n",
    "class Model(nn.Module):\n",
    "    # Constructor\n",
    "    def __init__(self,num_features,model_layers,include_dropout,dropout_rate):\n",
    "        # Calling super constructor\n",
    "        super().__init__()\n",
    "        self.model = nn.Sequential()\n",
    "\n",
    "        # Adding the layers\n",
    "        in_features = num_features\n",
    "        for index in range(len(model_layers)):\n",
    "            model_layer = nn.Linear(in_features,model_layers[index],bias=True)\n",
    "            self.model.append(model_layer)\n",
    "            self.model.append(nn.ReLU())\n",
    "            in_features = model_layers[index]\n",
    "\n",
    "            # Adding dropout if specified\n",
    "            if include_dropout[index]:\n",
    "                self.model.append(nn.Dropout(p=dropout_rate))\n",
    "        \n",
    "        # Adding the final layer\n",
    "        self.model.append(nn.Linear(in_features,2))\n",
    "\n",
    "    # Forward class\n",
    "    def forward(self,X):\n",
    "        # Running the input through the model \n",
    "        return self.model(X)"
   ]
  },
  {
   "cell_type": "code",
   "execution_count": 7,
   "metadata": {},
   "outputs": [
    {
     "data": {
      "text/plain": [
       "Model(\n",
       "  (model): Sequential(\n",
       "    (0): Linear(in_features=15, out_features=10, bias=True)\n",
       "    (1): ReLU()\n",
       "    (2): Dropout(p=0.2, inplace=False)\n",
       "    (3): Linear(in_features=10, out_features=20, bias=True)\n",
       "    (4): ReLU()\n",
       "    (5): Dropout(p=0.2, inplace=False)\n",
       "    (6): Linear(in_features=20, out_features=10, bias=True)\n",
       "    (7): ReLU()\n",
       "    (8): Dropout(p=0.2, inplace=False)\n",
       "    (9): Linear(in_features=10, out_features=2, bias=True)\n",
       "  )\n",
       ")"
      ]
     },
     "execution_count": 7,
     "metadata": {},
     "output_type": "execute_result"
    }
   ],
   "source": [
    "# Defining the model\n",
    "num_features = X_train.shape[1]\n",
    "layers = [10,20,10]\n",
    "include_dropout = [True] * 3\n",
    "dropout_rate = 0.2\n",
    "\n",
    "model = Model(num_features,layers,include_dropout,dropout_rate)\n",
    "model"
   ]
  },
  {
   "cell_type": "code",
   "execution_count": 8,
   "metadata": {},
   "outputs": [
    {
     "name": "stderr",
     "output_type": "stream",
     "text": [
      "/Users/jinalshah/.pyenv/versions/3.10.0/envs/authentic-ai/lib/python3.10/site-packages/tqdm/auto.py:21: TqdmWarning: IProgress not found. Please update jupyter and ipywidgets. See https://ipywidgets.readthedocs.io/en/stable/user_install.html\n",
      "  from .autonotebook import tqdm as notebook_tqdm\n",
      " 10%|█         | 1/10 [00:06<00:57,  6.36s/it]"
     ]
    },
    {
     "name": "stdout",
     "output_type": "stream",
     "text": [
      "EPOCH 0 loss: 0.006293049785972678\n"
     ]
    },
    {
     "name": "stderr",
     "output_type": "stream",
     "text": [
      " 20%|██        | 2/10 [00:13<00:53,  6.65s/it]"
     ]
    },
    {
     "name": "stdout",
     "output_type": "stream",
     "text": [
      "EPOCH 1 loss: 0.004450705626069916\n"
     ]
    },
    {
     "name": "stderr",
     "output_type": "stream",
     "text": [
      " 30%|███       | 3/10 [00:19<00:45,  6.45s/it]"
     ]
    },
    {
     "name": "stdout",
     "output_type": "stream",
     "text": [
      "EPOCH 2 loss: 0.004344402054682994\n"
     ]
    },
    {
     "name": "stderr",
     "output_type": "stream",
     "text": [
      " 40%|████      | 4/10 [00:26<00:39,  6.59s/it]"
     ]
    },
    {
     "name": "stdout",
     "output_type": "stream",
     "text": [
      "EPOCH 3 loss: 0.004258986082727554\n"
     ]
    },
    {
     "name": "stderr",
     "output_type": "stream",
     "text": [
      " 50%|█████     | 5/10 [00:33<00:34,  6.98s/it]"
     ]
    },
    {
     "name": "stdout",
     "output_type": "stream",
     "text": [
      "EPOCH 4 loss: 0.0043234542349758235\n"
     ]
    },
    {
     "name": "stderr",
     "output_type": "stream",
     "text": [
      " 60%|██████    | 6/10 [00:40<00:27,  6.77s/it]"
     ]
    },
    {
     "name": "stdout",
     "output_type": "stream",
     "text": [
      "EPOCH 5 loss: 0.0042299356447129234\n"
     ]
    },
    {
     "name": "stderr",
     "output_type": "stream",
     "text": [
      " 70%|███████   | 7/10 [00:46<00:19,  6.58s/it]"
     ]
    },
    {
     "name": "stdout",
     "output_type": "stream",
     "text": [
      "EPOCH 6 loss: 0.0042532555030537185\n"
     ]
    },
    {
     "name": "stderr",
     "output_type": "stream",
     "text": [
      " 80%|████████  | 8/10 [00:52<00:12,  6.43s/it]"
     ]
    },
    {
     "name": "stdout",
     "output_type": "stream",
     "text": [
      "EPOCH 7 loss: 0.004237245718934311\n"
     ]
    },
    {
     "name": "stderr",
     "output_type": "stream",
     "text": [
      " 90%|█████████ | 9/10 [00:58<00:06,  6.33s/it]"
     ]
    },
    {
     "name": "stdout",
     "output_type": "stream",
     "text": [
      "EPOCH 8 loss: 0.004224362249436103\n"
     ]
    },
    {
     "name": "stderr",
     "output_type": "stream",
     "text": [
      "100%|██████████| 10/10 [01:04<00:00,  6.46s/it]"
     ]
    },
    {
     "name": "stdout",
     "output_type": "stream",
     "text": [
      "EPOCH 9 loss: 0.004163728993879288\n"
     ]
    },
    {
     "name": "stderr",
     "output_type": "stream",
     "text": [
      "\n"
     ]
    }
   ],
   "source": [
    "# Model training\n",
    "EPOCHS = 10\n",
    "LEARNING_RATE = 0.003\n",
    "LOSS = nn.CrossEntropyLoss()\n",
    "OPTIMIZER = torch.optim.Adam(model.parameters(),LEARNING_RATE)\n",
    "history = []\n",
    "\n",
    "for epoch in tqdm.tqdm(range(EPOCHS)):\n",
    "    epoch_loss = 0\n",
    "    for X,y in training_loader:\n",
    "        # Making predictions\n",
    "        pred = model(X)\n",
    "\n",
    "        # Getting the loss\n",
    "        loss = LOSS(pred,y.long())\n",
    "\n",
    "        # Calculating the gradients\n",
    "        loss.backward()\n",
    "\n",
    "        # Taking a step with the optimizer\n",
    "        OPTIMIZER.step()\n",
    "\n",
    "        # Clear the gradients\n",
    "        OPTIMIZER.zero_grad()\n",
    "\n",
    "        # Adding the loss\n",
    "        epoch_loss += loss.item()\n",
    "    \n",
    "    # Appending the average example loss to the history\n",
    "    print(f'EPOCH {epoch} loss: {epoch_loss / len(tensor_dataset)}')\n",
    "    history.append(epoch_loss / len(tensor_dataset))\n"
   ]
  },
  {
   "cell_type": "code",
   "execution_count": 9,
   "metadata": {},
   "outputs": [
    {
     "data": {
      "image/png": "[encoded data removed]",
      "text/plain": [
       "<Figure size 640x480 with 1 Axes>"
      ]
     },
     "metadata": {},
     "output_type": "display_data"
    }
   ],
   "source": [
    "# Checking the learning rate\n",
    "plt.plot(history)\n",
    "plt.xlabel('Epochs')\n",
    "plt.ylabel('Loss')\n",
    "plt.title('Learning Curve for Model')\n",
    "plt.show()"
   ]
  },
  {
   "cell_type": "code",
   "execution_count": 11,
   "metadata": {},
   "outputs": [
    {
     "name": "stdout",
     "output_type": "stream",
     "text": [
      "Train ROC AUC: 0.9865846460888862\n"
     ]
    }
   ],
   "source": [
    "# Making predictions and checking the ROC AUC score\n",
    "predictions = nn.functional.softmax(model(torch.from_numpy(np.float32(X_train))),dim=1).detach().numpy()[:,1]\n",
    "print(f'Train ROC AUC: {roc_auc_score(y_tensor,predictions)}')"
   ]
  },
  {
   "cell_type": "code",
   "execution_count": 12,
   "metadata": {},
   "outputs": [],
   "source": [
    "# Saving the model\n",
    "torch.save(model.state_dict(),'../models/ann.pt')"
   ]
  }
 ],
 "metadata": {
  "kernelspec": {
   "display_name": "authentic-ai",
   "language": "python",
   "name": "python3"
  },
  "language_info": {
   "codemirror_mode": {
    "name": "ipython",
    "version": 3
   },
   "file_extension": ".py",
   "mimetype": "text/x-python",
   "name": "python",
   "nbconvert_exporter": "python",
   "pygments_lexer": "ipython3",
   "version": "3.10.0"
  }
 },
 "nbformat": 4,
 "nbformat_minor": 2
}

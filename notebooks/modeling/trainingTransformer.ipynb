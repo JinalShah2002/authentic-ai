{
 "cells": [
  {
   "cell_type": "code",
   "execution_count": 1,
   "id": "fec67e3d",
   "metadata": {
    "execution": {
     "iopub.execute_input": "2024-01-21T02:25:36.505598Z",
     "iopub.status.busy": "2024-01-21T02:25:36.504752Z",
     "iopub.status.idle": "2024-01-21T02:25:55.554484Z",
     "shell.execute_reply": "2024-01-21T02:25:55.553633Z"
    },
    "papermill": {
     "duration": 19.059446,
     "end_time": "2024-01-21T02:25:55.556787",
     "exception": false,
     "start_time": "2024-01-21T02:25:36.497341",
     "status": "completed"
    },
    "tags": []
   },
   "outputs": [
    {
     "name": "stderr",
     "output_type": "stream",
     "text": [
      "/opt/conda/lib/python3.10/site-packages/scipy/__init__.py:146: UserWarning: A NumPy version >=1.16.5 and <1.23.0 is required for this version of SciPy (detected version 1.24.3\n",
      "  warnings.warn(f\"A NumPy version >={np_minversion} and <{np_maxversion}\"\n"
     ]
    }
   ],
   "source": [
    "# Importing libraries\n",
    "import pandas as pd\n",
    "import numpy as np\n",
    "import matplotlib.pyplot as plt\n",
    "import torch\n",
    "import torch.nn as nn\n",
    "from tqdm import tqdm\n",
    "import torchtext\n",
    "from torchtext.data import get_tokenizer\n",
    "from torchtext.vocab import build_vocab_from_iterator\n",
    "from nltk.stem import SnowballStemmer\n",
    "from tensorflow import keras\n",
    "from keras.utils import pad_sequences\n",
    "from torch.utils.data import TensorDataset, DataLoader\n",
    "from sklearn.metrics import roc_auc_score\n",
    "import os\n",
    "import math\n",
    "for dirname, _, filenames in os.walk('/kaggle/input'):\n",
    "    for filename in filenames:\n",
    "        os.path.join(dirname, filename)\n",
    "\n",
    "tqdm.pandas()"
   ]
  },
  {
   "cell_type": "code",
   "execution_count": 2,
   "id": "7f8c53ab",
   "metadata": {
    "execution": {
     "iopub.execute_input": "2024-01-21T02:25:55.568039Z",
     "iopub.status.busy": "2024-01-21T02:25:55.567438Z",
     "iopub.status.idle": "2024-01-21T02:25:58.198488Z",
     "shell.execute_reply": "2024-01-21T02:25:58.197390Z"
    },
    "papermill": {
     "duration": 2.638969,
     "end_time": "2024-01-21T02:25:58.200850",
     "exception": false,
     "start_time": "2024-01-21T02:25:55.561881",
     "status": "completed"
    },
    "tags": []
   },
   "outputs": [],
   "source": [
    "# Getting the essays and the labels\n",
    "# data = pd.read_csv('../prepared_training_set.csv') -> for repo\n",
    "data = pd.read_csv('../input/prepared-data-llm-competition/prepared_training_set.csv') # for colab\n",
    "essays = data['essay']\n",
    "labels = data['LLM_written']"
   ]
  },
  {
   "cell_type": "code",
   "execution_count": 3,
   "id": "7fc2173b",
   "metadata": {
    "execution": {
     "iopub.execute_input": "2024-01-21T02:25:58.211737Z",
     "iopub.status.busy": "2024-01-21T02:25:58.211404Z",
     "iopub.status.idle": "2024-01-21T02:26:02.692045Z",
     "shell.execute_reply": "2024-01-21T02:26:02.691221Z"
    },
    "papermill": {
     "duration": 4.488535,
     "end_time": "2024-01-21T02:26:02.694308",
     "exception": false,
     "start_time": "2024-01-21T02:25:58.205773",
     "status": "completed"
    },
    "tags": []
   },
   "outputs": [],
   "source": [
    "# Creating the tokenizer and stemmer\n",
    "tokenizer = get_tokenizer('spacy','en_core_web_sm')\n",
    "stemmer = SnowballStemmer(language='english')"
   ]
  },
  {
   "cell_type": "code",
   "execution_count": 4,
   "id": "09c27ef4",
   "metadata": {
    "execution": {
     "iopub.execute_input": "2024-01-21T02:26:02.706367Z",
     "iopub.status.busy": "2024-01-21T02:26:02.705440Z",
     "iopub.status.idle": "2024-01-21T02:26:02.711327Z",
     "shell.execute_reply": "2024-01-21T02:26:02.710410Z"
    },
    "papermill": {
     "duration": 0.013521,
     "end_time": "2024-01-21T02:26:02.713235",
     "exception": false,
     "start_time": "2024-01-21T02:26:02.699714",
     "status": "completed"
    },
    "tags": []
   },
   "outputs": [],
   "source": [
    "# A function to tokenize and stem each essay\n",
    "def preprocess_essays(essay:str) -> list:\n",
    "    prepared_essay = []\n",
    "    # Preprocessing the essay a bit\n",
    "    preprocess_essay = essay.replace('\\n',\"\")\n",
    "    preprocess_essay = essay.replace('\\t',\"\")\n",
    "    tokenized = tokenizer(essay.replace('\\n',\"\"))\n",
    "\n",
    "    # Getting the lemmas\n",
    "    prepared_essay = [stemmer.stem(token) for token in tokenized]\n",
    "\n",
    "    return prepared_essay"
   ]
  },
  {
   "cell_type": "code",
   "execution_count": 5,
   "id": "20797e7e",
   "metadata": {
    "execution": {
     "iopub.execute_input": "2024-01-21T02:26:02.724205Z",
     "iopub.status.busy": "2024-01-21T02:26:02.723631Z",
     "iopub.status.idle": "2024-01-21T02:33:34.361641Z",
     "shell.execute_reply": "2024-01-21T02:33:34.360399Z"
    },
    "papermill": {
     "duration": 451.646007,
     "end_time": "2024-01-21T02:33:34.363987",
     "exception": false,
     "start_time": "2024-01-21T02:26:02.717980",
     "status": "completed"
    },
    "tags": []
   },
   "outputs": [
    {
     "name": "stderr",
     "output_type": "stream",
     "text": [
      "100%|██████████| 49929/49929 [07:31<00:00, 110.55it/s]\n"
     ]
    }
   ],
   "source": [
    "# Getting the tokenized essays\n",
    "tokenized = essays.progress_apply(preprocess_essays)"
   ]
  },
  {
   "cell_type": "code",
   "execution_count": 6,
   "id": "aef4a5b3",
   "metadata": {
    "execution": {
     "iopub.execute_input": "2024-01-21T02:33:35.054241Z",
     "iopub.status.busy": "2024-01-21T02:33:35.053301Z",
     "iopub.status.idle": "2024-01-21T02:33:35.180821Z",
     "shell.execute_reply": "2024-01-21T02:33:35.179732Z"
    },
    "papermill": {
     "duration": 0.447367,
     "end_time": "2024-01-21T02:33:35.183458",
     "exception": false,
     "start_time": "2024-01-21T02:33:34.736091",
     "status": "completed"
    },
    "tags": []
   },
   "outputs": [],
   "source": [
    "# Getting the vocabulary\n",
    "vocab = torch.load('../input/models-llm-competition/vocab.pt')"
   ]
  },
  {
   "cell_type": "code",
   "execution_count": 7,
   "id": "3929da27",
   "metadata": {
    "execution": {
     "iopub.execute_input": "2024-01-21T02:33:35.798441Z",
     "iopub.status.busy": "2024-01-21T02:33:35.798051Z",
     "iopub.status.idle": "2024-01-21T02:33:38.374100Z",
     "shell.execute_reply": "2024-01-21T02:33:38.373110Z"
    },
    "papermill": {
     "duration": 2.884677,
     "end_time": "2024-01-21T02:33:38.376507",
     "exception": false,
     "start_time": "2024-01-21T02:33:35.491830",
     "status": "completed"
    },
    "tags": []
   },
   "outputs": [
    {
     "name": "stderr",
     "output_type": "stream",
     "text": [
      "100%|██████████| 49929/49929 [00:02<00:00, 19450.50it/s]\n"
     ]
    }
   ],
   "source": [
    "# Creating the training data by inputting the essays through the vocabulary\n",
    "def put_through_vocab(essay):\n",
    "    return vocab(essay)\n",
    "\n",
    "essays_through_vocab = tokenized.progress_apply(put_through_vocab).tolist()"
   ]
  },
  {
   "cell_type": "code",
   "execution_count": 8,
   "id": "416fdac5",
   "metadata": {
    "execution": {
     "iopub.execute_input": "2024-01-21T02:33:38.998995Z",
     "iopub.status.busy": "2024-01-21T02:33:38.998102Z",
     "iopub.status.idle": "2024-01-21T02:33:40.729036Z",
     "shell.execute_reply": "2024-01-21T02:33:40.727957Z"
    },
    "papermill": {
     "duration": 2.040142,
     "end_time": "2024-01-21T02:33:40.731444",
     "exception": false,
     "start_time": "2024-01-21T02:33:38.691302",
     "status": "completed"
    },
    "tags": []
   },
   "outputs": [],
   "source": [
    "padded_essays = pad_sequences(essays_through_vocab,maxlen=500,padding='post',truncating='post',value=vocab['<pad>'])"
   ]
  },
  {
   "cell_type": "code",
   "execution_count": 9,
   "id": "89f59022",
   "metadata": {
    "execution": {
     "iopub.execute_input": "2024-01-21T02:33:41.408869Z",
     "iopub.status.busy": "2024-01-21T02:33:41.407986Z",
     "iopub.status.idle": "2024-01-21T02:33:41.424655Z",
     "shell.execute_reply": "2024-01-21T02:33:41.423741Z"
    },
    "papermill": {
     "duration": 0.381926,
     "end_time": "2024-01-21T02:33:41.426609",
     "exception": false,
     "start_time": "2024-01-21T02:33:41.044683",
     "status": "completed"
    },
    "tags": []
   },
   "outputs": [],
   "source": [
    "# Encodings and Embeddings for Transformer\n",
    "class TokenEmbedding(nn.Module):\n",
    "    def __init__(self,vocab_size: int, emb_size):\n",
    "        super(TokenEmbedding, self).__init__()\n",
    "        self.embedding = nn.Embedding(vocab_size,emb_size,padding_idx=vocab['<pad>'])\n",
    "        self.embed_size = emb_size\n",
    "\n",
    "    def forward(self,tokens):\n",
    "        return self.embedding(tokens.long()) * math.sqrt(self.embed_size)\n",
    "\n",
    "# Positional Encoding\n",
    "class PositionalEncoding(nn.Module):\n",
    "    def __init__(self,emb_size:int, dropout:float, maxlen:int = 500):\n",
    "        super(PositionalEncoding,self).__init__()\n",
    "        den = torch.exp(-torch.arange(0,emb_size,2)*math.log(10000) / emb_size)\n",
    "        pos = torch.arange(0,maxlen).reshape(maxlen,1)\n",
    "        pos_embedding = torch.zeros((maxlen,emb_size))\n",
    "        pos_embedding[:,0::2] = torch.sin(pos * den)\n",
    "        pos_embedding[:,1::2] = torch.cos(pos * den)\n",
    "        pos_embedding = pos_embedding.unsqueeze(0)\n",
    "\n",
    "        self.dropout = nn.Dropout(dropout)\n",
    "\n",
    "        # Saving the positional encoding in the model state dict, but making sure PyTorch doesn't \"train\"\n",
    "        # these parameters because they don't need to be trained\n",
    "        self.register_buffer('pos_embedding',pos_embedding)\n",
    "\n",
    "    def forward(self,token_embedding):\n",
    "        return self.dropout(token_embedding + self.pos_embedding)"
   ]
  },
  {
   "cell_type": "code",
   "execution_count": 10,
   "id": "9f56b05f",
   "metadata": {
    "execution": {
     "iopub.execute_input": "2024-01-21T02:33:42.061149Z",
     "iopub.status.busy": "2024-01-21T02:33:42.060438Z",
     "iopub.status.idle": "2024-01-21T02:33:42.067938Z",
     "shell.execute_reply": "2024-01-21T02:33:42.066797Z"
    },
    "papermill": {
     "duration": 0.323859,
     "end_time": "2024-01-21T02:33:42.070499",
     "exception": false,
     "start_time": "2024-01-21T02:33:41.746640",
     "status": "completed"
    },
    "tags": []
   },
   "outputs": [],
   "source": [
    "# Transformer Model\n",
    "class Model(nn.Module):\n",
    "    def __init__(self,d_model:int,nheads:int,dim_feedforward:int,dropout:float,num_layers:int):\n",
    "        super().__init__()\n",
    "        \n",
    "        self.encoder_layer = nn.TransformerEncoderLayer(d_model,nheads,dim_feedforward,dropout,batch_first=True)\n",
    "        self.transformer = nn.TransformerEncoder(self.encoder_layer,num_layers)\n",
    "        self.fc1 = nn.Linear(d_model,1)\n",
    "    \n",
    "    # Forward Function\n",
    "    def forward(self,X,src_key_padding_mask):\n",
    "        output = self.transformer(X,src_key_padding_mask=src_key_padding_mask)\n",
    "        output = torch.mean(output,dim=1)\n",
    "        return nn.functional.sigmoid(self.fc1(output))        "
   ]
  },
  {
   "cell_type": "code",
   "execution_count": 11,
   "id": "9a80c9de",
   "metadata": {
    "execution": {
     "iopub.execute_input": "2024-01-21T02:33:42.699548Z",
     "iopub.status.busy": "2024-01-21T02:33:42.698637Z",
     "iopub.status.idle": "2024-01-21T02:33:42.703445Z",
     "shell.execute_reply": "2024-01-21T02:33:42.702553Z"
    },
    "papermill": {
     "duration": 0.32263,
     "end_time": "2024-01-21T02:33:42.705405",
     "exception": false,
     "start_time": "2024-01-21T02:33:42.382775",
     "status": "completed"
    },
    "tags": []
   },
   "outputs": [],
   "source": [
    "# Creating a mask to make sure the padding indicies are masked\n",
    "def create_padding_mask(X):\n",
    "    return (X == vocab['<pad>'])"
   ]
  },
  {
   "cell_type": "code",
   "execution_count": 12,
   "id": "1b8afb9a",
   "metadata": {
    "execution": {
     "iopub.execute_input": "2024-01-21T02:33:43.328059Z",
     "iopub.status.busy": "2024-01-21T02:33:43.327121Z",
     "iopub.status.idle": "2024-01-21T02:33:43.345760Z",
     "shell.execute_reply": "2024-01-21T02:33:43.343693Z"
    },
    "papermill": {
     "duration": 0.334689,
     "end_time": "2024-01-21T02:33:43.349677",
     "exception": false,
     "start_time": "2024-01-21T02:33:43.014988",
     "status": "completed"
    },
    "tags": []
   },
   "outputs": [],
   "source": [
    "# Putting the data into a data loader for training\n",
    "padded_essays_tensor = torch.from_numpy(padded_essays)\n",
    "labels_tensor = torch.from_numpy(labels.values)\n",
    "\n",
    "training_data = TensorDataset(padded_essays_tensor,labels_tensor)\n",
    "training_dataloader = DataLoader(training_data,batch_size=128,shuffle=False)"
   ]
  },
  {
   "cell_type": "code",
   "execution_count": 13,
   "id": "0d42d05c",
   "metadata": {
    "execution": {
     "iopub.execute_input": "2024-01-21T02:33:44.026035Z",
     "iopub.status.busy": "2024-01-21T02:33:44.025288Z",
     "iopub.status.idle": "2024-01-21T02:33:44.029930Z",
     "shell.execute_reply": "2024-01-21T02:33:44.028994Z"
    },
    "papermill": {
     "duration": 0.366544,
     "end_time": "2024-01-21T02:33:44.031869",
     "exception": false,
     "start_time": "2024-01-21T02:33:43.665325",
     "status": "completed"
    },
    "tags": []
   },
   "outputs": [],
   "source": [
    "# Getting GPU\n",
    "device = \"cuda:0\" if torch.cuda.is_available() else \"cpu\""
   ]
  },
  {
   "cell_type": "code",
   "execution_count": 14,
   "id": "0ac63f8e",
   "metadata": {
    "execution": {
     "iopub.execute_input": "2024-01-21T02:33:44.650017Z",
     "iopub.status.busy": "2024-01-21T02:33:44.649200Z",
     "iopub.status.idle": "2024-01-21T02:33:45.193193Z",
     "shell.execute_reply": "2024-01-21T02:33:45.192272Z"
    },
    "papermill": {
     "duration": 0.856139,
     "end_time": "2024-01-21T02:33:45.195186",
     "exception": false,
     "start_time": "2024-01-21T02:33:44.339047",
     "status": "completed"
    },
    "tags": []
   },
   "outputs": [
    {
     "data": {
      "text/plain": [
       "Model(\n",
       "  (encoder_layer): TransformerEncoderLayer(\n",
       "    (self_attn): MultiheadAttention(\n",
       "      (out_proj): NonDynamicallyQuantizableLinear(in_features=512, out_features=512, bias=True)\n",
       "    )\n",
       "    (linear1): Linear(in_features=512, out_features=2048, bias=True)\n",
       "    (dropout): Dropout(p=0.1, inplace=False)\n",
       "    (linear2): Linear(in_features=2048, out_features=512, bias=True)\n",
       "    (norm1): LayerNorm((512,), eps=1e-05, elementwise_affine=True)\n",
       "    (norm2): LayerNorm((512,), eps=1e-05, elementwise_affine=True)\n",
       "    (dropout1): Dropout(p=0.1, inplace=False)\n",
       "    (dropout2): Dropout(p=0.1, inplace=False)\n",
       "  )\n",
       "  (transformer): TransformerEncoder(\n",
       "    (layers): ModuleList(\n",
       "      (0-1): 2 x TransformerEncoderLayer(\n",
       "        (self_attn): MultiheadAttention(\n",
       "          (out_proj): NonDynamicallyQuantizableLinear(in_features=512, out_features=512, bias=True)\n",
       "        )\n",
       "        (linear1): Linear(in_features=512, out_features=2048, bias=True)\n",
       "        (dropout): Dropout(p=0.1, inplace=False)\n",
       "        (linear2): Linear(in_features=2048, out_features=512, bias=True)\n",
       "        (norm1): LayerNorm((512,), eps=1e-05, elementwise_affine=True)\n",
       "        (norm2): LayerNorm((512,), eps=1e-05, elementwise_affine=True)\n",
       "        (dropout1): Dropout(p=0.1, inplace=False)\n",
       "        (dropout2): Dropout(p=0.1, inplace=False)\n",
       "      )\n",
       "    )\n",
       "  )\n",
       "  (fc1): Linear(in_features=512, out_features=1, bias=True)\n",
       ")"
      ]
     },
     "execution_count": 14,
     "metadata": {},
     "output_type": "execute_result"
    }
   ],
   "source": [
    "# Setting up the training\n",
    "embedding = TokenEmbedding(vocab.__len__(),512)\n",
    "positional_encoding = PositionalEncoding(512,dropout=0.1,maxlen=500)\n",
    "model = Model(d_model=512,nheads=8,dim_feedforward=2048,dropout=0.1,num_layers=2)\n",
    "optimizer = torch.optim.Adam(model.parameters(),0.00001)\n",
    "loss_function = nn.BCELoss()\n",
    "EPOCHS = 30\n",
    "history = []\n",
    "model.to(device)\n",
    "embedding.to(device)\n",
    "positional_encoding.to(device)\n",
    "model"
   ]
  },
  {
   "cell_type": "code",
   "execution_count": 15,
   "id": "943414f7",
   "metadata": {
    "execution": {
     "iopub.execute_input": "2024-01-21T02:33:45.811825Z",
     "iopub.status.busy": "2024-01-21T02:33:45.810853Z",
     "iopub.status.idle": "2024-01-21T05:59:06.433523Z",
     "shell.execute_reply": "2024-01-21T05:59:06.432523Z"
    },
    "papermill": {
     "duration": 12320.931388,
     "end_time": "2024-01-21T05:59:06.436939",
     "exception": false,
     "start_time": "2024-01-21T02:33:45.505551",
     "status": "completed"
    },
    "tags": []
   },
   "outputs": [
    {
     "name": "stdout",
     "output_type": "stream",
     "text": [
      "Starting EPOCH 0...\n"
     ]
    },
    {
     "name": "stderr",
     "output_type": "stream",
     "text": [
      "100%|██████████| 391/391 [06:44<00:00,  1.03s/it]\n"
     ]
    },
    {
     "name": "stdout",
     "output_type": "stream",
     "text": [
      "EPOCH 0 LOSS: 0.00413878802660188\n",
      "\n",
      "Starting EPOCH 1...\n"
     ]
    },
    {
     "name": "stderr",
     "output_type": "stream",
     "text": [
      "100%|██████████| 391/391 [06:51<00:00,  1.05s/it]\n"
     ]
    },
    {
     "name": "stdout",
     "output_type": "stream",
     "text": [
      "EPOCH 1 LOSS: 0.0034685801738459886\n",
      "\n",
      "Starting EPOCH 2...\n"
     ]
    },
    {
     "name": "stderr",
     "output_type": "stream",
     "text": [
      "100%|██████████| 391/391 [06:50<00:00,  1.05s/it]\n"
     ]
    },
    {
     "name": "stdout",
     "output_type": "stream",
     "text": [
      "EPOCH 2 LOSS: 0.0027074801550300326\n",
      "\n",
      "Starting EPOCH 3...\n"
     ]
    },
    {
     "name": "stderr",
     "output_type": "stream",
     "text": [
      "100%|██████████| 391/391 [06:50<00:00,  1.05s/it]\n"
     ]
    },
    {
     "name": "stdout",
     "output_type": "stream",
     "text": [
      "EPOCH 3 LOSS: 0.002042622381771322\n",
      "\n",
      "Starting EPOCH 4...\n"
     ]
    },
    {
     "name": "stderr",
     "output_type": "stream",
     "text": [
      "100%|██████████| 391/391 [06:50<00:00,  1.05s/it]\n"
     ]
    },
    {
     "name": "stdout",
     "output_type": "stream",
     "text": [
      "EPOCH 4 LOSS: 0.0015714069667444193\n",
      "\n",
      "Starting EPOCH 5...\n"
     ]
    },
    {
     "name": "stderr",
     "output_type": "stream",
     "text": [
      "100%|██████████| 391/391 [06:51<00:00,  1.05s/it]\n"
     ]
    },
    {
     "name": "stdout",
     "output_type": "stream",
     "text": [
      "EPOCH 5 LOSS: 0.0013084037532678232\n",
      "\n",
      "Starting EPOCH 6...\n"
     ]
    },
    {
     "name": "stderr",
     "output_type": "stream",
     "text": [
      "100%|██████████| 391/391 [06:50<00:00,  1.05s/it]\n"
     ]
    },
    {
     "name": "stdout",
     "output_type": "stream",
     "text": [
      "EPOCH 6 LOSS: 0.0011441351108122768\n",
      "\n",
      "Starting EPOCH 7...\n"
     ]
    },
    {
     "name": "stderr",
     "output_type": "stream",
     "text": [
      "100%|██████████| 391/391 [06:50<00:00,  1.05s/it]\n"
     ]
    },
    {
     "name": "stdout",
     "output_type": "stream",
     "text": [
      "EPOCH 7 LOSS: 0.00100381478878168\n",
      "\n",
      "Starting EPOCH 8...\n"
     ]
    },
    {
     "name": "stderr",
     "output_type": "stream",
     "text": [
      "100%|██████████| 391/391 [06:50<00:00,  1.05s/it]\n"
     ]
    },
    {
     "name": "stdout",
     "output_type": "stream",
     "text": [
      "EPOCH 8 LOSS: 0.0008944882153048124\n",
      "\n",
      "Starting EPOCH 9...\n"
     ]
    },
    {
     "name": "stderr",
     "output_type": "stream",
     "text": [
      "100%|██████████| 391/391 [06:50<00:00,  1.05s/it]\n"
     ]
    },
    {
     "name": "stdout",
     "output_type": "stream",
     "text": [
      "EPOCH 9 LOSS: 0.0008045261391066855\n",
      "\n",
      "Starting EPOCH 10...\n"
     ]
    },
    {
     "name": "stderr",
     "output_type": "stream",
     "text": [
      "100%|██████████| 391/391 [06:50<00:00,  1.05s/it]\n"
     ]
    },
    {
     "name": "stdout",
     "output_type": "stream",
     "text": [
      "EPOCH 10 LOSS: 0.0007276359249666799\n",
      "\n",
      "Starting EPOCH 11...\n"
     ]
    },
    {
     "name": "stderr",
     "output_type": "stream",
     "text": [
      "100%|██████████| 391/391 [06:50<00:00,  1.05s/it]\n"
     ]
    },
    {
     "name": "stdout",
     "output_type": "stream",
     "text": [
      "EPOCH 11 LOSS: 0.0006681639864150027\n",
      "\n",
      "Starting EPOCH 12...\n"
     ]
    },
    {
     "name": "stderr",
     "output_type": "stream",
     "text": [
      "100%|██████████| 391/391 [06:50<00:00,  1.05s/it]\n"
     ]
    },
    {
     "name": "stdout",
     "output_type": "stream",
     "text": [
      "EPOCH 12 LOSS: 0.0006081193620184543\n",
      "\n",
      "Starting EPOCH 13...\n"
     ]
    },
    {
     "name": "stderr",
     "output_type": "stream",
     "text": [
      "100%|██████████| 391/391 [06:51<00:00,  1.05s/it]\n"
     ]
    },
    {
     "name": "stdout",
     "output_type": "stream",
     "text": [
      "EPOCH 13 LOSS: 0.0005564446462031028\n",
      "\n",
      "Starting EPOCH 14...\n"
     ]
    },
    {
     "name": "stderr",
     "output_type": "stream",
     "text": [
      "100%|██████████| 391/391 [06:51<00:00,  1.05s/it]\n"
     ]
    },
    {
     "name": "stdout",
     "output_type": "stream",
     "text": [
      "EPOCH 14 LOSS: 0.0005188059472189777\n",
      "\n",
      "Starting EPOCH 15...\n"
     ]
    },
    {
     "name": "stderr",
     "output_type": "stream",
     "text": [
      "100%|██████████| 391/391 [06:50<00:00,  1.05s/it]\n"
     ]
    },
    {
     "name": "stdout",
     "output_type": "stream",
     "text": [
      "EPOCH 15 LOSS: 0.00048751710022273715\n",
      "\n",
      "Starting EPOCH 16...\n"
     ]
    },
    {
     "name": "stderr",
     "output_type": "stream",
     "text": [
      "100%|██████████| 391/391 [06:50<00:00,  1.05s/it]\n"
     ]
    },
    {
     "name": "stdout",
     "output_type": "stream",
     "text": [
      "EPOCH 16 LOSS: 0.00045497265825260715\n",
      "\n",
      "Starting EPOCH 17...\n"
     ]
    },
    {
     "name": "stderr",
     "output_type": "stream",
     "text": [
      "100%|██████████| 391/391 [06:50<00:00,  1.05s/it]\n"
     ]
    },
    {
     "name": "stdout",
     "output_type": "stream",
     "text": [
      "EPOCH 17 LOSS: 0.00042802411205856625\n",
      "\n",
      "Starting EPOCH 18...\n"
     ]
    },
    {
     "name": "stderr",
     "output_type": "stream",
     "text": [
      "100%|██████████| 391/391 [06:51<00:00,  1.05s/it]\n"
     ]
    },
    {
     "name": "stdout",
     "output_type": "stream",
     "text": [
      "EPOCH 18 LOSS: 0.0003914708268828797\n",
      "\n",
      "Starting EPOCH 19...\n"
     ]
    },
    {
     "name": "stderr",
     "output_type": "stream",
     "text": [
      "100%|██████████| 391/391 [06:51<00:00,  1.05s/it]\n"
     ]
    },
    {
     "name": "stdout",
     "output_type": "stream",
     "text": [
      "EPOCH 19 LOSS: 0.0003680815251407546\n",
      "\n",
      "Starting EPOCH 20...\n"
     ]
    },
    {
     "name": "stderr",
     "output_type": "stream",
     "text": [
      "100%|██████████| 391/391 [06:51<00:00,  1.05s/it]\n"
     ]
    },
    {
     "name": "stdout",
     "output_type": "stream",
     "text": [
      "EPOCH 20 LOSS: 0.0003563121902150751\n",
      "\n",
      "Starting EPOCH 21...\n"
     ]
    },
    {
     "name": "stderr",
     "output_type": "stream",
     "text": [
      "100%|██████████| 391/391 [06:50<00:00,  1.05s/it]\n"
     ]
    },
    {
     "name": "stdout",
     "output_type": "stream",
     "text": [
      "EPOCH 21 LOSS: 0.00033102852053498667\n",
      "\n",
      "Starting EPOCH 22...\n"
     ]
    },
    {
     "name": "stderr",
     "output_type": "stream",
     "text": [
      "100%|██████████| 391/391 [06:51<00:00,  1.05s/it]\n"
     ]
    },
    {
     "name": "stdout",
     "output_type": "stream",
     "text": [
      "EPOCH 22 LOSS: 0.0003118840446423154\n",
      "\n",
      "Starting EPOCH 23...\n"
     ]
    },
    {
     "name": "stderr",
     "output_type": "stream",
     "text": [
      "100%|██████████| 391/391 [06:50<00:00,  1.05s/it]\n"
     ]
    },
    {
     "name": "stdout",
     "output_type": "stream",
     "text": [
      "EPOCH 23 LOSS: 0.00029967701776765365\n",
      "\n",
      "Starting EPOCH 24...\n"
     ]
    },
    {
     "name": "stderr",
     "output_type": "stream",
     "text": [
      "100%|██████████| 391/391 [06:50<00:00,  1.05s/it]\n"
     ]
    },
    {
     "name": "stdout",
     "output_type": "stream",
     "text": [
      "EPOCH 24 LOSS: 0.00029014629493281\n",
      "\n",
      "Starting EPOCH 25...\n"
     ]
    },
    {
     "name": "stderr",
     "output_type": "stream",
     "text": [
      "100%|██████████| 391/391 [06:50<00:00,  1.05s/it]\n"
     ]
    },
    {
     "name": "stdout",
     "output_type": "stream",
     "text": [
      "EPOCH 25 LOSS: 0.00026457907145028604\n",
      "\n",
      "Starting EPOCH 26...\n"
     ]
    },
    {
     "name": "stderr",
     "output_type": "stream",
     "text": [
      "100%|██████████| 391/391 [06:50<00:00,  1.05s/it]\n"
     ]
    },
    {
     "name": "stdout",
     "output_type": "stream",
     "text": [
      "EPOCH 26 LOSS: 0.0002625155348890047\n",
      "\n",
      "Starting EPOCH 27...\n"
     ]
    },
    {
     "name": "stderr",
     "output_type": "stream",
     "text": [
      "100%|██████████| 391/391 [06:50<00:00,  1.05s/it]\n"
     ]
    },
    {
     "name": "stdout",
     "output_type": "stream",
     "text": [
      "EPOCH 27 LOSS: 0.0002449154095951903\n",
      "\n",
      "Starting EPOCH 28...\n"
     ]
    },
    {
     "name": "stderr",
     "output_type": "stream",
     "text": [
      "100%|██████████| 391/391 [06:51<00:00,  1.05s/it]\n"
     ]
    },
    {
     "name": "stdout",
     "output_type": "stream",
     "text": [
      "EPOCH 28 LOSS: 0.00024378430133709564\n",
      "\n",
      "Starting EPOCH 29...\n"
     ]
    },
    {
     "name": "stderr",
     "output_type": "stream",
     "text": [
      "100%|██████████| 391/391 [06:50<00:00,  1.05s/it]"
     ]
    },
    {
     "name": "stdout",
     "output_type": "stream",
     "text": [
      "EPOCH 29 LOSS: 0.00022667290453382165\n",
      "\n"
     ]
    },
    {
     "name": "stderr",
     "output_type": "stream",
     "text": [
      "\n"
     ]
    }
   ],
   "source": [
    "# Iterating and training\n",
    "model.train()\n",
    "for epoch in range(EPOCHS):\n",
    "    epoch_loss = 0\n",
    "    print(f'Starting EPOCH {epoch}...')\n",
    "    for X,y in tqdm(training_dataloader):\n",
    "        # Model predictions\n",
    "        X = X.to(device)\n",
    "        y = y.to(device)\n",
    "        \n",
    "        # Getting Embeddings\n",
    "        embed_input = embedding(X)\n",
    "        model_input = positional_encoding(embed_input)\n",
    "        pred = model(model_input,src_key_padding_mask=create_padding_mask(X))\n",
    "\n",
    "        # Loss function\n",
    "        loss = loss_function(pred,y.float().view(-1,1))\n",
    "\n",
    "        # Calculating the gradients\n",
    "        loss.backward()\n",
    "\n",
    "        # Taking a step with the optimizer\n",
    "        optimizer.step()\n",
    "\n",
    "        # Zeroing out optimizer\n",
    "        optimizer.zero_grad()\n",
    "\n",
    "        # Adding the loss to the epoch loss\n",
    "        epoch_loss += loss.item()\n",
    "\n",
    "    # Adding the loss to the history\n",
    "    print(f'EPOCH {epoch} LOSS: {epoch_loss / len(training_data)}')\n",
    "    print()\n",
    "    history.append(epoch_loss / len(training_data))"
   ]
  },
  {
   "cell_type": "code",
   "execution_count": 16,
   "id": "2e188f42",
   "metadata": {
    "execution": {
     "iopub.execute_input": "2024-01-21T05:59:09.017450Z",
     "iopub.status.busy": "2024-01-21T05:59:09.017072Z",
     "iopub.status.idle": "2024-01-21T05:59:09.355807Z",
     "shell.execute_reply": "2024-01-21T05:59:09.354819Z"
    },
    "papermill": {
     "duration": 1.665087,
     "end_time": "2024-01-21T05:59:09.357842",
     "exception": false,
     "start_time": "2024-01-21T05:59:07.692755",
     "status": "completed"
    },
    "tags": []
   },
   "outputs": [
    {
     "data": {
      "image/png": "[encoded data removed]",
      "text/plain": [
       "<Figure size 640x480 with 1 Axes>"
      ]
     },
     "metadata": {},
     "output_type": "display_data"
    }
   ],
   "source": [
    "# Plotting the learning curve\n",
    "plt.title('Learning Curve for Transformer')\n",
    "plt.xlabel('Epochs')\n",
    "plt.ylabel('Loss')\n",
    "plt.plot(history)\n",
    "plt.show()"
   ]
  },
  {
   "cell_type": "code",
   "execution_count": 17,
   "id": "e1ee82f8",
   "metadata": {
    "execution": {
     "iopub.execute_input": "2024-01-21T05:59:11.904544Z",
     "iopub.status.busy": "2024-01-21T05:59:11.903792Z",
     "iopub.status.idle": "2024-01-21T06:01:32.655540Z",
     "shell.execute_reply": "2024-01-21T06:01:32.654408Z"
    },
    "papermill": {
     "duration": 142.031573,
     "end_time": "2024-01-21T06:01:32.657568",
     "exception": false,
     "start_time": "2024-01-21T05:59:10.625995",
     "status": "completed"
    },
    "tags": []
   },
   "outputs": [
    {
     "name": "stderr",
     "output_type": "stream",
     "text": [
      "100%|██████████| 391/391 [02:20<00:00,  2.78it/s]\n"
     ]
    },
    {
     "data": {
      "text/plain": [
       "array([[9.7285402e-01],\n",
       "       [9.9963844e-01],\n",
       "       [5.8941817e-01],\n",
       "       ...,\n",
       "       [8.3276280e-04],\n",
       "       [2.4284958e-04],\n",
       "       [1.9898970e-04]], dtype=float32)"
      ]
     },
     "execution_count": 17,
     "metadata": {},
     "output_type": "execute_result"
    }
   ],
   "source": [
    "# Performing inference\n",
    "predictions = None\n",
    "targets = None\n",
    "model.eval() # Setting model in eval mode\n",
    "for X,y in tqdm(training_dataloader):\n",
    "    X = X.to(device)\n",
    "    \n",
    "    embed_input = embedding(X)\n",
    "    model_input = positional_encoding(embed_input)\n",
    "\n",
    "    if predictions is None:\n",
    "        predictions = model(model_input,src_key_padding_mask=create_padding_mask(X)).cpu().detach().numpy()\n",
    "    else:\n",
    "        batch_pred = model(model_input,src_key_padding_mask=create_padding_mask(X)).cpu().detach().numpy()\n",
    "        predictions = np.append(predictions,batch_pred,axis=0)\n",
    "\n",
    "    # Getting the targets\n",
    "    if targets is None:\n",
    "        targets = y.numpy()\n",
    "    else:\n",
    "        targets = np.append(targets,y.numpy(),axis=0)\n",
    "\n",
    "predictions"
   ]
  },
  {
   "cell_type": "code",
   "execution_count": 18,
   "id": "9daa3ef4",
   "metadata": {
    "execution": {
     "iopub.execute_input": "2024-01-21T06:01:35.342647Z",
     "iopub.status.busy": "2024-01-21T06:01:35.342305Z",
     "iopub.status.idle": "2024-01-21T06:01:35.374446Z",
     "shell.execute_reply": "2024-01-21T06:01:35.373395Z"
    },
    "papermill": {
     "duration": 1.316059,
     "end_time": "2024-01-21T06:01:35.376560",
     "exception": false,
     "start_time": "2024-01-21T06:01:34.060501",
     "status": "completed"
    },
    "tags": []
   },
   "outputs": [
    {
     "name": "stdout",
     "output_type": "stream",
     "text": [
      "ROC AUC on Training Set:\n",
      "0.9990676363088332\n"
     ]
    }
   ],
   "source": [
    "# Checking ROC AUC Score\n",
    "print('ROC AUC on Training Set:')\n",
    "print(roc_auc_score(targets,predictions))"
   ]
  },
  {
   "cell_type": "code",
   "execution_count": 19,
   "id": "23a68564",
   "metadata": {
    "execution": {
     "iopub.execute_input": "2024-01-21T06:01:38.016609Z",
     "iopub.status.busy": "2024-01-21T06:01:38.015687Z",
     "iopub.status.idle": "2024-01-21T06:01:38.197950Z",
     "shell.execute_reply": "2024-01-21T06:01:38.197089Z"
    },
    "papermill": {
     "duration": 1.448846,
     "end_time": "2024-01-21T06:01:38.200129",
     "exception": false,
     "start_time": "2024-01-21T06:01:36.751283",
     "status": "completed"
    },
    "tags": []
   },
   "outputs": [],
   "source": [
    "# Saving the model and embedding\n",
    "torch.save(embedding.state_dict(),'embedding_30_epochs.pt')\n",
    "torch.save(positional_encoding.state_dict(),'positional_encoding_30_epochs.pt')\n",
    "torch.save(model.state_dict(),'transformers_30_epochs.pt')"
   ]
  }
 ],
 "metadata": {
  "kaggle": {
   "accelerator": "nvidiaTeslaT4",
   "dataSources": [
    {
     "databundleVersionId": 7535984,
     "datasetId": 4310497,
     "sourceId": 7444130,
     "sourceType": "datasetVersion"
    },
    {
     "databundleVersionId": 7484261,
     "datasetId": 4298086,
     "sourceId": 7393250,
     "sourceType": "datasetVersion"
    }
   ],
   "dockerImageVersionId": 30636,
   "isGpuEnabled": true,
   "isInternetEnabled": true,
   "language": "python",
   "sourceType": "notebook"
  },
  "kernelspec": {
   "display_name": "Python 3",
   "language": "python",
   "name": "python3"
  },
  "language_info": {
   "codemirror_mode": {
    "name": "ipython",
    "version": 3
   },
   "file_extension": ".py",
   "mimetype": "text/x-python",
   "name": "python",
   "nbconvert_exporter": "python",
   "pygments_lexer": "ipython3",
   "version": "3.10.12"
  },
  "papermill": {
   "default_parameters": {},
   "duration": 12969.515925,
   "end_time": "2024-01-21T06:01:42.367368",
   "environment_variables": {},
   "exception": null,
   "input_path": "__notebook__.ipynb",
   "output_path": "__notebook__.ipynb",
   "parameters": {},
   "start_time": "2024-01-21T02:25:32.851443",
   "version": "2.4.0"
  }
 },
 "nbformat": 4,
 "nbformat_minor": 5
}

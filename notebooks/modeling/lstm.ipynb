{
  "cells": [
    {
      "cell_type": "markdown",
      "metadata": {
        "id": "8ae3vybAYpDX"
      },
      "source": [
        "# LSTM\n",
        "\n",
        "Until now, I have been utilizing classical machine learning and a feature set. I found that my custom feature set caps at around 0.76-0.77. Then, I tried TFIDF and classical ML models. I found that they do present promise; however, they seem to also not be able to break the 0.80 boundary. In this notebook, I am doing to try to utilize deep learning approaches. Specifically, I will create a vocabulary and try to utilize a LSTM and see if it performs better."
      ]
    },
    {
      "cell_type": "code",
      "execution_count": null,
      "metadata": {
        "id": "s702f4StYpDb"
      },
      "outputs": [],
      "source": [
        "# Importing libraries\n",
        "import pandas as pd\n",
        "import numpy as np\n",
        "import matplotlib.pyplot as plt\n",
        "import torch\n",
        "import torch.nn as nn\n",
        "from tqdm import tqdm\n",
        "import torchtext\n",
        "from torchtext.data import get_tokenizer\n",
        "from torchtext.vocab import build_vocab_from_iterator\n",
        "from nltk.stem import SnowballStemmer\n",
        "from tensorflow import keras\n",
        "from keras.utils import pad_sequences\n",
        "from torch.utils.data import TensorDataset, DataLoader\n",
        "from sklearn.metrics import roc_auc_score\n",
        "\n",
        "tqdm.pandas()\n",
        "%matplotlib inline"
      ]
    },
    {
      "cell_type": "code",
      "execution_count": null,
      "metadata": {
        "id": "TrwjD2hLYpDg"
      },
      "outputs": [],
      "source": [
        "# Getting the essays and the labels\n",
        "# data = pd.read_csv('../prepared_training_set.csv') -> for repo\n",
        "data = pd.read_csv('prepared_training_set.csv') # for colab\n",
        "essays = data['essay']\n",
        "labels = data['LLM_written']"
      ]
    },
    {
      "cell_type": "code",
      "execution_count": null,
      "metadata": {
        "id": "MnmpTlhoYpDg"
      },
      "outputs": [],
      "source": [
        "# Creating the tokenizer and stemmer\n",
        "tokenizer = get_tokenizer('spacy','en_core_web_sm')\n",
        "stemmer = SnowballStemmer(language='english')"
      ]
    },
    {
      "cell_type": "code",
      "execution_count": null,
      "metadata": {
        "id": "rhOmx7YcYpDh"
      },
      "outputs": [],
      "source": [
        "# A function to tokenize and stem each essay\n",
        "def preprocess_essays(essay:str) -> list:\n",
        "    prepared_essay = []\n",
        "    # Preprocessing the essay a bit\n",
        "    preprocess_essay = essay.replace('\\n',\"\")\n",
        "    preprocess_essay = essay.replace('\\t',\"\")\n",
        "    tokenized = tokenizer(essay.replace('\\n',\"\"))\n",
        "\n",
        "    # Getting the lemmas\n",
        "    prepared_essay = [stemmer.stem(token) for token in tokenized]\n",
        "\n",
        "    return prepared_essay"
      ]
    },
    {
      "cell_type": "code",
      "execution_count": null,
      "metadata": {
        "id": "VNVOp7m_YpDh"
      },
      "outputs": [],
      "source": [
        "# Finding the shape of the longest and shortest tokenized essays\n",
        "def length(essay:list) -> int:\n",
        "    return len(essay)"
      ]
    },
    {
      "cell_type": "code",
      "execution_count": null,
      "metadata": {
        "colab": {
          "base_uri": "https://localhost:8080/"
        },
        "id": "AulA5cnIYpDi",
        "outputId": "7c881050-c057-4e02-b6a4-0d352cca9318"
      },
      "outputs": [
        {
          "output_type": "stream",
          "name": "stderr",
          "text": [
            "100%|██████████| 49929/49929 [05:01<00:00, 165.72it/s]\n",
            "100%|██████████| 49929/49929 [00:00<00:00, 828162.31it/s]\n"
          ]
        }
      ],
      "source": [
        "# Getting the tokenized essays\n",
        "tokenized_essays_df = pd.DataFrame()\n",
        "tokenized_essays_df['essay'] = essays.progress_apply(preprocess_essays)\n",
        "tokenized_essays_df['length'] = tokenized_essays_df['essay'].progress_apply(length)"
      ]
    },
    {
      "cell_type": "markdown",
      "metadata": {
        "id": "Ggvcar8wYpDj"
      },
      "source": [
        "Using stemming instead of lemmatization because lemmatization would take too long (around 2-5 hours!!!). This is because lemmatization works on utilizing the POS tag along with the word (stripping prefixes and suffixes) to try to find an appropriate lemma to \"bucket\" the word in. This process is computationally expensive as the algorithm would look in a massive dictionary for an appropriate lemma. Stemming follows a set of rules and cuts off the ending. Stemming isn't as accurate, but it works much faster. Will help for a good solution."
      ]
    },
    {
      "cell_type": "code",
      "execution_count": null,
      "metadata": {
        "colab": {
          "base_uri": "https://localhost:8080/"
        },
        "id": "N4QRGJcQYpDj",
        "outputId": "922ad6c8-aee4-4c62-f9b7-bb4e7c041af4"
      },
      "outputs": [
        {
          "output_type": "execute_result",
          "data": {
            "text/plain": [
              "count    49929.000000\n",
              "mean       495.305754\n",
              "std        471.085565\n",
              "min         52.000000\n",
              "25%        303.000000\n",
              "50%        418.000000\n",
              "75%        556.000000\n",
              "max      22194.000000\n",
              "Name: length, dtype: float64"
            ]
          },
          "metadata": {},
          "execution_count": 7
        }
      ],
      "source": [
        "tokenized_essays_df['length'].describe()"
      ]
    },
    {
      "cell_type": "markdown",
      "metadata": {
        "id": "iWLd-YYAYpDk"
      },
      "source": [
        "From this analysis, a max token length of 575 should work. This cap would allow approximately 75% of the essays to not be truncated. I will have to add padding."
      ]
    },
    {
      "cell_type": "code",
      "execution_count": null,
      "metadata": {
        "id": "nYJpZ2vRYpDk"
      },
      "outputs": [],
      "source": [
        "# A function to yield each essay -> creates an iterator\n",
        "def yield_essays(essays):\n",
        "    for essay in essays:\n",
        "        yield essay"
      ]
    },
    {
      "cell_type": "code",
      "execution_count": null,
      "metadata": {
        "id": "B2fXE7WtYpDk"
      },
      "outputs": [],
      "source": [
        "# Building the vocabulary -> vocab will have the 5000 most popular tokens along with an unknown token\n",
        "vocabulary = build_vocab_from_iterator(yield_essays(tokenized_essays_df['essay']),specials=['<unk>','<pad>'],special_first=True,max_tokens=25000)\n",
        "vocabulary.set_default_index(vocabulary['<unk>']) # Setting the default index as the index of the unknown"
      ]
    },
    {
      "cell_type": "code",
      "execution_count": null,
      "metadata": {
        "colab": {
          "base_uri": "https://localhost:8080/"
        },
        "id": "lKYfrUXTYpDl",
        "outputId": "ddfb7be0-bd21-43f5-e570-4ab2ac61e2e2"
      },
      "outputs": [
        {
          "output_type": "stream",
          "name": "stderr",
          "text": [
            "100%|██████████| 49929/49929 [00:03<00:00, 15336.16it/s]\n"
          ]
        }
      ],
      "source": [
        "# Creating the training data by inputting the essays through the vocabulary\n",
        "def put_through_vocab(essay):\n",
        "    return vocabulary(essay)\n",
        "\n",
        "essays_through_vocab = tokenized_essays_df['essay'].progress_apply(put_through_vocab)"
      ]
    },
    {
      "cell_type": "code",
      "execution_count": null,
      "metadata": {
        "colab": {
          "base_uri": "https://localhost:8080/"
        },
        "id": "XINhpnHqYpDl",
        "outputId": "afde1453-5186-4539-d8b3-be805e06b26d"
      },
      "outputs": [
        {
          "output_type": "execute_result",
          "data": {
            "text/plain": [
              "(49929, 500)"
            ]
          },
          "metadata": {},
          "execution_count": 11
        }
      ],
      "source": [
        "# Padding the sequences and truncating\n",
        "padded_essays = pad_sequences(essays_through_vocab.tolist(),maxlen=500,padding='post',truncating='post',value=vocabulary['<pad>'])\n",
        "padded_essays.shape"
      ]
    },
    {
      "cell_type": "code",
      "execution_count": null,
      "metadata": {
        "id": "SNtoTgewYpDl"
      },
      "outputs": [],
      "source": [
        "# Model\n",
        "class Model(nn.Module):\n",
        "    def __init__(self,embed_size=250,hidden_size=250,dropout_rate=0.2):\n",
        "        super().__init__()\n",
        "\n",
        "        # Model layers\n",
        "        self.embedding = nn.Embedding(25000,embed_size,padding_idx=vocabulary['<pad>'])\n",
        "        self.lstm = nn.LSTM(embed_size,hidden_size,num_layers=2,bias=True,batch_first=True,bidirectional=True)\n",
        "        self.dropout = nn.Dropout(dropout_rate)\n",
        "        self.fc1 = nn.Linear(2*hidden_size,1,bias=True)\n",
        "\n",
        "    # Forward method\n",
        "    def forward(self,X):\n",
        "        out = self.embedding(X)\n",
        "        output,(_,_) = self.lstm(out)\n",
        "        out = self.dropout(output[:,-1,:])\n",
        "        return nn.functional.sigmoid(self.fc1(out))"
      ]
    },
    {
      "cell_type": "code",
      "source": [
        "# Getting GPU\n",
        "device = \"cuda:0\" if torch.cuda.is_available() else \"cpu\""
      ],
      "metadata": {
        "id": "-PaTxYPNZG4b"
      },
      "execution_count": null,
      "outputs": []
    },
    {
      "cell_type": "code",
      "execution_count": null,
      "metadata": {
        "id": "MkyYFx6eYpDl"
      },
      "outputs": [],
      "source": [
        "# Putting the data into a data loader for training\n",
        "padded_essays_tensor = torch.from_numpy(padded_essays)\n",
        "labels_tensor = torch.from_numpy(labels.values)\n",
        "\n",
        "training_data = TensorDataset(padded_essays_tensor,labels_tensor)\n",
        "training_dataloader = DataLoader(training_data,batch_size=32,shuffle=True)"
      ]
    },
    {
      "cell_type": "code",
      "execution_count": null,
      "metadata": {
        "colab": {
          "base_uri": "https://localhost:8080/"
        },
        "id": "8LRw5wigYpDl",
        "outputId": "2423736f-98bd-4257-e55d-3c7ebccab154"
      },
      "outputs": [
        {
          "output_type": "execute_result",
          "data": {
            "text/plain": [
              "Model(\n",
              "  (embedding): Embedding(25000, 250, padding_idx=1)\n",
              "  (lstm): LSTM(250, 128, batch_first=True, bidirectional=True)\n",
              "  (dropout): Dropout(p=0.3, inplace=False)\n",
              "  (fc1): Linear(in_features=256, out_features=1, bias=True)\n",
              ")"
            ]
          },
          "metadata": {},
          "execution_count": 89
        }
      ],
      "source": [
        "# Setting up the training\n",
        "model = Model(embed_size=250,hidden_size=128,dropout_rate=0.3)\n",
        "optimizer = torch.optim.Adam(model.parameters(),0.003)\n",
        "loss_function = nn.BCELoss()\n",
        "EPOCHS = 5\n",
        "history = []\n",
        "model.to(device)\n",
        "model"
      ]
    },
    {
      "cell_type": "code",
      "execution_count": null,
      "metadata": {
        "colab": {
          "base_uri": "https://localhost:8080/"
        },
        "id": "6225asJ6YpDm",
        "outputId": "ec4636d5-016a-4164-d041-3e8327781665"
      },
      "outputs": [
        {
          "output_type": "stream",
          "name": "stdout",
          "text": [
            "Starting EPOCH 0...\n"
          ]
        },
        {
          "output_type": "stream",
          "name": "stderr",
          "text": [
            "100%|██████████| 1561/1561 [00:31<00:00, 48.84it/s]\n"
          ]
        },
        {
          "output_type": "stream",
          "name": "stdout",
          "text": [
            "EPOCH 0 LOSS: 0.0062405897014213285\n",
            "\n",
            "Starting EPOCH 1...\n"
          ]
        },
        {
          "output_type": "stream",
          "name": "stderr",
          "text": [
            "100%|██████████| 1561/1561 [00:31<00:00, 49.75it/s]\n"
          ]
        },
        {
          "output_type": "stream",
          "name": "stdout",
          "text": [
            "EPOCH 1 LOSS: 0.0023348798708077508\n",
            "\n",
            "Starting EPOCH 2...\n"
          ]
        },
        {
          "output_type": "stream",
          "name": "stderr",
          "text": [
            "100%|██████████| 1561/1561 [00:31<00:00, 49.72it/s]\n"
          ]
        },
        {
          "output_type": "stream",
          "name": "stdout",
          "text": [
            "EPOCH 2 LOSS: 0.0013538418786371211\n",
            "\n",
            "Starting EPOCH 3...\n"
          ]
        },
        {
          "output_type": "stream",
          "name": "stderr",
          "text": [
            "100%|██████████| 1561/1561 [00:31<00:00, 49.44it/s]\n"
          ]
        },
        {
          "output_type": "stream",
          "name": "stdout",
          "text": [
            "EPOCH 3 LOSS: 0.0013179421203934488\n",
            "\n",
            "Starting EPOCH 4...\n"
          ]
        },
        {
          "output_type": "stream",
          "name": "stderr",
          "text": [
            "100%|██████████| 1561/1561 [00:31<00:00, 49.45it/s]"
          ]
        },
        {
          "output_type": "stream",
          "name": "stdout",
          "text": [
            "EPOCH 4 LOSS: 0.0011684392764806705\n",
            "\n"
          ]
        },
        {
          "output_type": "stream",
          "name": "stderr",
          "text": [
            "\n"
          ]
        }
      ],
      "source": [
        "# Iterating and training\n",
        "model.train()\n",
        "for epoch in range(EPOCHS):\n",
        "    epoch_loss = 0\n",
        "    print(f'Starting EPOCH {epoch}...')\n",
        "    for X,y in tqdm(training_dataloader):\n",
        "        # Model predictions\n",
        "        X = X.to(device)\n",
        "        y = y.to(device)\n",
        "        pred = model(X)\n",
        "\n",
        "        # Loss function\n",
        "        loss = loss_function(pred,y.float().view(-1,1))\n",
        "\n",
        "        # Calculating the gradients\n",
        "        loss.backward()\n",
        "\n",
        "        # Taking a step with the optimizer\n",
        "        optimizer.step()\n",
        "\n",
        "        # Zeroing out optimizer\n",
        "        optimizer.zero_grad()\n",
        "\n",
        "        # Adding the loss to the epoch loss\n",
        "        epoch_loss += loss.item()\n",
        "\n",
        "    # Adding the loss to the history\n",
        "    print(f'EPOCH {epoch} LOSS: {epoch_loss / len(training_data)}')\n",
        "    print()\n",
        "    history.append(epoch_loss / len(training_data))"
      ]
    },
    {
      "cell_type": "code",
      "execution_count": null,
      "metadata": {
        "colab": {
          "base_uri": "https://localhost:8080/",
          "height": 472
        },
        "id": "4wyKxpaEYpDm",
        "outputId": "74680b3a-eebb-45da-9f24-9b57ce067287"
      },
      "outputs": [
        {
          "output_type": "display_data",
          "data": {
            "text/plain": [
              "<Figure size 640x480 with 1 Axes>"
            ],
            "image/png": "[encoded data removed]"
          },
          "metadata": {}
        }
      ],
      "source": [
        "# Plotting the learning curve\n",
        "plt.title('Learning Curve for LSTM')\n",
        "plt.xlabel('Epochs')\n",
        "plt.ylabel('Loss')\n",
        "plt.plot(history)\n",
        "plt.show()"
      ]
    },
    {
      "cell_type": "code",
      "source": [
        "# Performing inference\n",
        "predictions = None\n",
        "targets = None\n",
        "model.eval() # Setting model in eval mode\n",
        "for X,y in training_dataloader:\n",
        "  X = X.to(device)\n",
        "\n",
        "  if predictions is None:\n",
        "    predictions = model(X).cpu().detach().numpy()\n",
        "  else:\n",
        "    batch_pred = model(X).cpu().detach().numpy()\n",
        "    predictions = np.append(predictions,batch_pred,axis=0)\n",
        "\n",
        "  # Getting the targets\n",
        "  if targets is None:\n",
        "    targets = y.numpy()\n",
        "  else:\n",
        "    targets = np.append(targets,y.numpy(),axis=0)\n",
        "\n",
        "predictions"
      ],
      "metadata": {
        "colab": {
          "base_uri": "https://localhost:8080/"
        },
        "id": "DLdZ5-FFd0iY",
        "outputId": "b3cc944f-a808-4868-a181-1e3d02829eaf"
      },
      "execution_count": null,
      "outputs": [
        {
          "output_type": "execute_result",
          "data": {
            "text/plain": [
              "array([[2.8033494e-03],\n",
              "       [4.0126978e-03],\n",
              "       [2.5288668e-04],\n",
              "       ...,\n",
              "       [9.9983239e-01],\n",
              "       [5.5070600e-06],\n",
              "       [1.6324522e-04]], dtype=float32)"
            ]
          },
          "metadata": {},
          "execution_count": 92
        }
      ]
    },
    {
      "cell_type": "code",
      "source": [
        "# Checking ROC AUC Score\n",
        "print('ROC AUC on Training Set:')\n",
        "print(roc_auc_score(targets,predictions))"
      ],
      "metadata": {
        "colab": {
          "base_uri": "https://localhost:8080/"
        },
        "id": "amkc3fh3bsK3",
        "outputId": "2c740f6a-94a5-447d-ed5c-660d9c0fd785"
      },
      "execution_count": null,
      "outputs": [
        {
          "output_type": "stream",
          "name": "stdout",
          "text": [
            "ROC AUC on Training Set:\n",
            "0.999527368121411\n"
          ]
        }
      ]
    },
    {
      "cell_type": "code",
      "source": [
        "# Saving model and vocabulary\n",
        "torch.save(model.state_dict(),'lstm.pt')\n",
        "torch.save(vocabulary,'vocab.pt')"
      ],
      "metadata": {
        "id": "l-MrKdmMYgil"
      },
      "execution_count": null,
      "outputs": []
    }
  ],
  "metadata": {
    "kernelspec": {
      "display_name": "Python 3",
      "name": "python3"
    },
    "language_info": {
      "codemirror_mode": {
        "name": "ipython",
        "version": 3
      },
      "file_extension": ".py",
      "mimetype": "text/x-python",
      "name": "python",
      "nbconvert_exporter": "python",
      "pygments_lexer": "ipython3",
      "version": "3.10.0"
    },
    "colab": {
      "provenance": [],
      "gpuType": "T4"
    },
    "accelerator": "GPU"
  },
  "nbformat": 4,
  "nbformat_minor": 0
}